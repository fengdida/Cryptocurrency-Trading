{
 "cells": [
  {
   "cell_type": "markdown",
   "metadata": {},
   "source": [
    "The Strategy is to find the mismatch of the bid-ask of the same product in different exchange.\n",
    "As we can only make a immediately deal when we buy at the ask price and sell at the bid price, we need the bid price in one exchange greater than the ask price in another exchange.\n",
    "\n",
    "Further research:\n",
    "1. Use multithreading to get the latest order book cocurrently\n",
    "2. Trading cost including that the order we make may change the quantity of the bid-ask\n",
    "3. risk management to capture abnormal move of the order book\n",
    "4. REST api or Websocket\n",
    "\n"
   ]
  },
  {
   "cell_type": "markdown",
   "metadata": {},
   "source": [
    "Updated:\n",
    "1. The trading fee is about 0.1% for both exchanges, so the total trading cost for one pair including closing position is 0.4%\n",
    "2. It's hard to get profit if we do not use leverage as the bid ask reversed spread should larger price*0.4%, so I added 10 leverage (the maximum in exchange).\n",
    "3. Optimized my code with function.\n",
    "4. Only leverage 10 can have enough reversed bid ask spread to trade"
   ]
  },
  {
   "cell_type": "markdown",
   "metadata": {},
   "source": [
    "requirements: <br>\n",
    "huobi-client-sdk <br>\n",
    "kucoin-python"
   ]
  },
  {
   "cell_type": "code",
   "execution_count": 2,
   "metadata": {},
   "outputs": [],
   "source": [
    "from huobi.client.market import MarketClient\n",
    "from huobi.utils import *\n",
    "from kucoin.client import Market\n",
    "import time"
   ]
  },
  {
   "cell_type": "code",
   "execution_count": 59,
   "metadata": {},
   "outputs": [],
   "source": [
    "#times: trading times \n",
    "#rates: fee rates\n",
    "#symbol: the product, must be the same product\n",
    "#leverage: leverage level\n",
    "\n",
    "def Pnl(times=10,rates=[0.001,0.001],symbol=['btcusdt','BTC-USDT'],leverage=10):\n",
    "    client_h = MarketClient()\n",
    "    symbol_h, symbol_k = symbol\n",
    "    depth_size = 1\n",
    "\n",
    "    client_k = Market(url='https://api.kucoin.com')\n",
    "    account_h=[0,0]\n",
    "    account_k=[0,0]\n",
    "    profit=0\n",
    "    fees=0\n",
    "    fee_h, fee_k=rates #kucoin: 0.1%, huobi: 0.1%\n",
    "    market_price=client_h.get_market_detail(symbol_h).close\n",
    "    spread=(fee_h+fee_k)*2*market_price/leverage\n",
    "    #trade 10 times(default)\n",
    "    while times:\n",
    "        order_h = client_h.get_pricedepth(symbol_h, 'step0', depth_size)\n",
    "        order_k = client_k.get_part_order(20,symbol_k)\n",
    "    \n",
    "        price_h_a, amount_h_a = order_h.asks[0].price, order_h.asks[0].amount\n",
    "        price_h_b, amount_h_b = order_h.bids[0].price, order_h.bids[0].amount\n",
    "    \n",
    "        price_k_a, amount_k_a = float(order_k['bids'][0][0]), float(order_k['bids'][0][1])\n",
    "        price_k_b, amount_k_b = float(order_k['asks'][0][0]), float(order_k['asks'][0][1])\n",
    "\n",
    "\n",
    "        if price_h_a <= (price_k_b-spread):\n",
    "            min_a=min(amount_h_a, amount_k_b)\n",
    "            print(\"Huobi buy: \",price_h_a)\n",
    "            print(\"Kucoin sell: \",price_k_b)\n",
    "            print(\"Amount: \",min_a)\n",
    "            account_h[0]+=price_h_a*min_a\n",
    "            account_h[1]+=min_a\n",
    "            account_k[0]-=price_k_b*min_a\n",
    "            account_k[1]-=min_a\n",
    "            fees+=price_h_a*min_a*fee_h+price_k_b*min_a*fee_k\n",
    "            times-=1\n",
    "        elif (price_h_b-spread) >= price_k_a:\n",
    "            min_a=min(amount_k_a, amount_h_b)\n",
    "            print(\"Kucoin buy: \",price_k_a)\n",
    "            print(\"Huobi sell: \",price_h_b)\n",
    "            print(\"Amount: \",min_a)\n",
    "            account_h[0]-=price_h_b*min_a\n",
    "            account_h[1]-=min_a\n",
    "            account_k[0]+=price_k_a*min_a\n",
    "            account_k[1]+=min_a\n",
    "            fees+=price_h_b*min_a*fee_h+price_k_a*min_a*fee_k\n",
    "            times-=1\n",
    "        time.sleep(0.01)\n",
    "    #close position when the bid-ask between 2 exchanges return normal\n",
    "    while True:\n",
    "        order_h = client_h.get_pricedepth(symbol_h, 'step0', depth_size)\n",
    "        order_k = client_k.get_part_order(20,symbol_k)\n",
    "    \n",
    "        price_h_a, amount_h_a = order_h.asks[0].price, order_h.asks[0].amount\n",
    "        price_h_b, amount_h_b = order_h.bids[0].price, order_h.bids[0].amount\n",
    "    \n",
    "        price_k_a, amount_k_a = float(order_k['bids'][0][0]), float(order_k['bids'][0][1])\n",
    "        price_k_b, amount_k_b = float(order_k['asks'][0][0]), float(order_k['asks'][0][1])\n",
    "        if price_k_a>=price_h_b and price_k_b<=price_h_a: #when normal: both bid < ask \n",
    "            if account_h[1]>0:\n",
    "                close_price=price_h_b\n",
    "                profit+=close_price*account_h[1]-account_h[0]\n",
    "                fees+=close_price*abs(account_h[1])*fee_h\n",
    "            else:\n",
    "                close_price=price_h_a\n",
    "                profit+=close_price*account_h[1]-account_h[0]\n",
    "                fees+=close_price*abs(account_h[1])*fee_h\n",
    "            if account_k[1]>0:\n",
    "                close_price=price_k_b\n",
    "                profit+=close_price*account_k[1]-account_k[0]\n",
    "                fees+=close_price*abs(account_k[1])*fee_k\n",
    "            else:\n",
    "                close_price=price_k_a\n",
    "                profit+=close_price*account_k[1]-account_k[0]\n",
    "                fees+=close_price*abs(account_k[1])*fee_k\n",
    "            break\n",
    "        time.sleep(0.01)\n",
    "    return [profit*leverage, fees]"
   ]
  },
  {
   "cell_type": "code",
   "execution_count": 60,
   "metadata": {},
   "outputs": [
    {
     "name": "stdout",
     "output_type": "stream",
     "text": [
      "Kucoin buy:  55159.5\n",
      "Huobi sell:  55186.15\n",
      "Amount:  0.0345\n",
      "Huobi buy:  55243.1\n",
      "Kucoin sell:  55268.6\n",
      "Amount:  0.006\n",
      "Huobi buy:  55243.1\n",
      "Kucoin sell:  55273.1\n",
      "Amount:  0.01266998\n",
      "Huobi buy:  55243.1\n",
      "Kucoin sell:  55273.1\n",
      "Amount:  0.1569433\n",
      "Kucoin buy:  55268.1\n",
      "Huobi sell:  55291.07\n",
      "Amount:  0.001\n",
      "Huobi buy:  55315.84\n",
      "Kucoin sell:  55337.9\n",
      "Amount:  0.1383\n",
      "Kucoin buy:  55359.6\n",
      "Huobi sell:  55385.66\n",
      "Amount:  0.0005\n",
      "Kucoin buy:  55361.7\n",
      "Huobi sell:  55385.31\n",
      "Amount:  0.08\n",
      "Kucoin buy:  55375.6\n",
      "Huobi sell:  55400.04\n",
      "Amount:  0.006\n",
      "Kucoin buy:  55354.4\n",
      "Huobi sell:  55386.31\n",
      "Amount:  0.024714\n"
     ]
    }
   ],
   "source": [
    "rst=Pnl() #BTC USDT"
   ]
  },
  {
   "cell_type": "code",
   "execution_count": 61,
   "metadata": {},
   "outputs": [
    {
     "name": "stdout",
     "output_type": "stream",
     "text": [
      "Total profit: 115.66843314401922, total trading cost: 69.44012582329839, netting: 46.22830732072083\n"
     ]
    }
   ],
   "source": [
    "print(f\"Total profit: {rst[0]}, total trading cost: {rst[1]}, netting: {rst[0]-rst[1]}\")"
   ]
  },
  {
   "cell_type": "code",
   "execution_count": 62,
   "metadata": {},
   "outputs": [
    {
     "name": "stdout",
     "output_type": "stream",
     "text": [
      "Huobi buy:  1765.9\n",
      "Kucoin sell:  1766.64\n",
      "Amount:  2.4774\n",
      "Huobi buy:  1765.99\n",
      "Kucoin sell:  1766.76\n",
      "Amount:  2.0\n",
      "Kucoin buy:  1765.46\n",
      "Huobi sell:  1766.26\n",
      "Amount:  2.2642\n",
      "Kucoin buy:  1765.52\n",
      "Huobi sell:  1766.26\n",
      "Amount:  0.6167\n",
      "Kucoin buy:  1765.03\n",
      "Huobi sell:  1765.79\n",
      "Amount:  0.0464609\n",
      "Kucoin buy:  1767.51\n",
      "Huobi sell:  1768.38\n",
      "Amount:  1.6946\n",
      "Huobi buy:  1769.54\n",
      "Kucoin sell:  1770.68\n",
      "Amount:  0.1851\n",
      "Huobi buy:  1768.49\n",
      "Kucoin sell:  1769.44\n",
      "Amount:  2.5088\n",
      "Huobi buy:  1768.49\n",
      "Kucoin sell:  1769.44\n",
      "Amount:  2.5088\n",
      "Huobi buy:  1769.0\n",
      "Kucoin sell:  1769.87\n",
      "Amount:  5.6176918\n"
     ]
    }
   ],
   "source": [
    "rst=Pnl(symbol=['ethusdt','ETH-USDT'])"
   ]
  },
  {
   "cell_type": "code",
   "execution_count": 63,
   "metadata": {},
   "outputs": [
    {
     "name": "stdout",
     "output_type": "stream",
     "text": [
      "Total profit: 170.15732150000986, total trading cost: 108.227269154586, netting: 61.93005234542386\n"
     ]
    }
   ],
   "source": [
    "print(f\"Total profit: {rst[0]}, total trading cost: {rst[1]}, netting: {rst[0]-rst[1]}\")"
   ]
  },
  {
   "cell_type": "code",
   "execution_count": 73,
   "metadata": {},
   "outputs": [
    {
     "name": "stdout",
     "output_type": "stream",
     "text": [
      "Huobi buy:  1.242724\n",
      "Kucoin sell:  1.243849\n",
      "Amount:  289.0638\n",
      "Huobi buy:  1.242724\n",
      "Kucoin sell:  1.243849\n",
      "Amount:  289.0638\n",
      "Huobi buy:  1.242724\n",
      "Kucoin sell:  1.243849\n",
      "Amount:  289.0638\n",
      "Huobi buy:  1.242724\n",
      "Kucoin sell:  1.243849\n",
      "Amount:  289.0638\n",
      "Huobi buy:  1.242724\n",
      "Kucoin sell:  1.243849\n",
      "Amount:  289.0638\n",
      "Huobi buy:  1.242724\n",
      "Kucoin sell:  1.243849\n",
      "Amount:  289.0638\n",
      "Huobi buy:  1.242724\n",
      "Kucoin sell:  1.243849\n",
      "Amount:  289.0638\n",
      "Huobi buy:  1.242724\n",
      "Kucoin sell:  1.243849\n",
      "Amount:  289.0638\n",
      "Huobi buy:  1.242841\n",
      "Kucoin sell:  1.243849\n",
      "Amount:  289.0638\n",
      "Huobi buy:  1.242841\n",
      "Kucoin sell:  1.243849\n",
      "Amount:  289.0638\n"
     ]
    }
   ],
   "source": [
    "rst=Pnl(symbol=['adausdt','ADA-USDT'])"
   ]
  },
  {
   "cell_type": "code",
   "execution_count": 74,
   "metadata": {},
   "outputs": [
    {
     "name": "stdout",
     "output_type": "stream",
     "text": [
      "Total profit: 23.86510732801071, total trading cost: 14.378086599739198, netting: 9.48702072827151\n"
     ]
    }
   ],
   "source": [
    "print(f\"Total profit: {rst[0]}, total trading cost: {rst[1]}, netting: {rst[0]-rst[1]}\")"
   ]
  },
  {
   "cell_type": "code",
   "execution_count": null,
   "metadata": {},
   "outputs": [],
   "source": []
  }
 ],
 "metadata": {
  "kernelspec": {
   "display_name": "Python 3",
   "language": "python",
   "name": "python3"
  },
  "language_info": {
   "codemirror_mode": {
    "name": "ipython",
    "version": 3
   },
   "file_extension": ".py",
   "mimetype": "text/x-python",
   "name": "python",
   "nbconvert_exporter": "python",
   "pygments_lexer": "ipython3",
   "version": "3.7.6"
  }
 },
 "nbformat": 4,
 "nbformat_minor": 4
}
